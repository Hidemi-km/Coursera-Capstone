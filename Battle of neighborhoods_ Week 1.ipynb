{
 "cells": [
  {
   "cell_type": "markdown",
   "metadata": {
    "collapsed": true
   },
   "source": [
    "# Project Capstone - The battle of neighborhoods"
   ]
  },
  {
   "cell_type": "markdown",
   "metadata": {},
   "source": [
    "## 1. Introduction"
   ]
  },
  {
   "cell_type": "markdown",
   "metadata": {},
   "source": [
    "New York City is one of the three major centres of the world economy. The city has been described as the cultural, financial, and media capital of the world with significantly impact in terms of commerce, fashion, art, technology, research, enterteinment, tourism and education. Furthermore, is the most diverse and populated city in the United States with an estimated population of over 8.5 million people.  \n",
    "\n",
    "The city is so large and multifaceted that it can satisfy every interest, every taste. Different visitors come to New York for different purposes. For some, arts and culture is the biggest draw. Others come to New York for its glamour and glitz. Still others come to New York for its architecture, its food and restaurants, its shopping, its late-night vibe, its special events, or simply its great people-watching.  one of the most popular tourist destinations in the world. These are reasons why the city draw hordes of tourists every year and turning it into one of the most popular tourist destinations in the world. \n",
    "\n",
    "New York City is definitely one of the most attractive places to start up a new business, and with good reasons!"
   ]
  },
  {
   "cell_type": "markdown",
   "metadata": {},
   "source": [
    "## 2. Business problem"
   ]
  },
  {
   "cell_type": "markdown",
   "metadata": {},
   "source": [
    "As mentioned before, there is room for many activities in New York City and gastronomy is one of them. Its cuisine is a reflection of the city multiculturalism, its comprises many cuisines belonging to various ethnic groups that have entered the United States over the time.\n",
    "And this together with the large influx of people from all over the world makes opening a restaurant a very attractive business.\n",
    "\n",
    "Finding the right business location is essential for its viability and being able to achieve success in the business. The following are some aspects to consider:\n",
    "- **Cost of the establishment:** the best locations are the most expensive and, in addition, you have to have the amount of money that the reform can cost.\n",
    "- **Proximity to demand:** being close to demand and our target is essential for them to reach us. Being close to customers is the best way to get them to choose us.\n",
    "- **Visible place:** the importance of visibility is such that a business that is difficult to find or that does not stand out, can make a consumer not meet their needs.\n",
    "- **Communications and ease of access:** this aspect is essential for companies, since if it is difficult to access them, customers can choose other options.\n",
    "- **Complementary activities:** if there are other types of activities around our company, it can help, and greatly, to increase the number of clients in our business.\n"
   ]
  },
  {
   "cell_type": "markdown",
   "metadata": {},
   "source": [
    "## 3. Objective"
   ]
  },
  {
   "cell_type": "markdown",
   "metadata": {},
   "source": [
    "The objective of this project is to recommend anybody who is looking to open a restaurant which neighborhood in New York City is the best choice to start its business."
   ]
  },
  {
   "cell_type": "markdown",
   "metadata": {},
   "source": [
    "## 4. Data"
   ]
  },
  {
   "cell_type": "markdown",
   "metadata": {},
   "source": [
    "- **Data 1:** Neighborhoods in New York City from Wikipedia.  \n",
    "- **Data 2:** Geopy to get geological location.  \n",
    "- **Data 3:** Foursquare API to get venues records of given Borough of New York City.  "
   ]
  },
  {
   "cell_type": "code",
   "execution_count": null,
   "metadata": {},
   "outputs": [],
   "source": []
  }
 ],
 "metadata": {
  "kernelspec": {
   "display_name": "Python 3.6",
   "language": "python",
   "name": "python3"
  },
  "language_info": {
   "codemirror_mode": {
    "name": "ipython",
    "version": 3
   },
   "file_extension": ".py",
   "mimetype": "text/x-python",
   "name": "python",
   "nbconvert_exporter": "python",
   "pygments_lexer": "ipython3",
   "version": "3.6.9"
  }
 },
 "nbformat": 4,
 "nbformat_minor": 1
}

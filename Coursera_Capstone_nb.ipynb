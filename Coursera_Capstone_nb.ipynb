# This notebook will be mainly used for capstone project
import pandas a pd
import numpy as np
print('Hello Capstone Project Course!')

